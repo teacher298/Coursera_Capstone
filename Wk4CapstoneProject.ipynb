{
 "cells": [
  {
   "cell_type": "markdown",
   "metadata": {},
   "source": [
    "# Coursera - Applied Data Science Capstone Project\n",
    "\n",
    "\n",
    "In this first part of this Notebook, we will describe:\n",
    "\n",
    "* A description of the problem and a discussion of the background.\n",
    "* A description of the data and how it will be used to solve the problem.\n",
    "\n",
    "Later on, we continue to proceed solving the problem posed based on our analysis"
   ]
  },
  {
   "cell_type": "markdown",
   "metadata": {},
   "source": [
    "## Chapter 1 - Introduction/Business Problem"
   ]
  },
  {
   "cell_type": "markdown",
   "metadata": {},
   "source": [
    "Consider being someone who would like to move to Toronto or invest in real estate within the Greater Toronto Area, it is often a challenge to identify where the best place buy is. Purchasing real estate is often a big investment and takes up a considerable amount of ones savings. A lot of exploration and research is needed to be able to make an informed decision. Two major consideration factors often involved in real estate purchases are the quality of living within the neighborhood as well as its' housing price \"attractive\"-ness (especially if the area is undervalued).\n",
    "\n",
    "We will look into these aspect, with our audience being people who are interested in moving to Toronto."
   ]
  },
  {
   "cell_type": "markdown",
   "metadata": {},
   "source": [
    "### Toronto neighborhoods with the Best Quality of Life vs Price\n",
    "\n",
    "\"Quality of Life\" is an abstract term. For different people, this can mean different things. In our evaluation, we will take the number of venues within a neighborhood to determine a \"Quality of Life\" index. Within this index, we will consider the number of essential venues within walking distance of the neighborhood. These venues are defined as:\n",
    "\n",
    "* Medical Centre (4bf58dd8d48988d104941735)\n",
    "* Shop & Service (4d4b7105d754a06378d81259)\n",
    "* Restaurant/Food (4d4b7105d754a06374d81259)\n",
    "* Outdoor & Recreation (4d4b7105d754a06377d81259)\n",
    "* Arts & Entertainment (4d4b7104d754a06370d81259)\n",
    "\n",
    "\"Housing price\" can vary depending on various factors. This includes many factors such as its' size, type of housing, number of bedrooms, whether it has a garden, etc. As a result, housing prices between neighborhoods can vary greatly based on the type of housing built. To get a better appreciation of how \"Attactive\" a neighborhood is, we attempt to compare how high the demand for housing is. This takes into consideration factors such as how quickly a listing is sold and how easy it is to sell above the asking price.\n",
    "\n",
    "By cross referencing the \"Quality of Life\" for a neighborgood against the \"Attractive\"-ness, we can better understand and recommend where the best place to settle in Toronto is."
   ]
  },
  {
   "cell_type": "markdown",
   "metadata": {},
   "source": [
    "## Chapter 2 - Data"
   ]
  },
  {
   "cell_type": "markdown",
   "metadata": {},
   "source": [
    "In order to support our investigations, various data sources need to be pooled together. The following are various data sources that we will be leveraging during this exercise. Four Square, GPS Coordinates, and Toronto Demographics data will help us determine the \"Quality of Life\" of each neighborhood within the Greater Toronto Area. \n",
    "\n",
    "Meanwhile Toronto Housing Price data will primary come from Zolo, a real estate listings company in Canada."
   ]
  },
  {
   "cell_type": "markdown",
   "metadata": {},
   "source": [
    "### Geolocation Data\n",
    "\n",
    "**Four Square**\n",
    "\n",
    "Data from Foursquare provides the venue details based on location data. We will be determining the number of venues of a specific type within a certain distance.\n",
    "\n",
    "**GPS coordinates of location, place and city**\n",
    "\n",
    "https://www.gps-latitude-longitude.com/address-to-longitude-latitude-gps-coordinates\n",
    "\n",
    "Provides useful tools to determine the GPS coordinates of neighborhoods within the Greater Toronto area. The extraction of latitude and longitude information will support us when querying data from Four Square.\n",
    "\n",
    "\n",
    "### Toronto Housing Price\n",
    "\n",
    "**Zolo Hottest Toronto Neighborhoods**\n",
    "\n",
    "https://www.zolo.ca/toronto-real-estate/neighbourhoods\n",
    "\n",
    "Zolo listing provides several key data for each neighborhood in Toronto in the past 28 days such as: Listing sold under 10 days, listings sold above asking price, average sale price, number of active listings, etc.\n",
    "\n",
    "\n",
    "\n"
   ]
  }
 ],
 "metadata": {
  "kernelspec": {
   "display_name": "Python 3",
   "language": "python",
   "name": "python3"
  },
  "language_info": {
   "codemirror_mode": {
    "name": "ipython",
    "version": 3
   },
   "file_extension": ".py",
   "mimetype": "text/x-python",
   "name": "python",
   "nbconvert_exporter": "python",
   "pygments_lexer": "ipython3",
   "version": "3.7.6"
  }
 },
 "nbformat": 4,
 "nbformat_minor": 4
}
