{
 "cells": [
  {
   "cell_type": "markdown",
   "metadata": {},
   "source": [
    "# Coursera - Applied Data Science Capstone Project\n",
    "\n",
    "\n",
    "In this first part of this Notebook, we will describe:\n",
    "\n",
    "* A description of the problem and a discussion of the background. (15 marks)\n",
    "* A description of the data and how it will be used to solve the problem. (15 marks)\n",
    "\n",
    "Later on, we continue to proceed soling the problem posed based on our analysis"
   ]
  },
  {
   "cell_type": "code",
   "execution_count": null,
   "metadata": {},
   "outputs": [],
   "source": []
  }
 ],
 "metadata": {
  "kernelspec": {
   "display_name": "Python 3",
   "language": "python",
   "name": "python3"
  },
  "language_info": {
   "codemirror_mode": {
    "name": "ipython",
    "version": 3
   },
   "file_extension": ".py",
   "mimetype": "text/x-python",
   "name": "python",
   "nbconvert_exporter": "python",
   "pygments_lexer": "ipython3",
   "version": "3.7.6"
  }
 },
 "nbformat": 4,
 "nbformat_minor": 4
}
